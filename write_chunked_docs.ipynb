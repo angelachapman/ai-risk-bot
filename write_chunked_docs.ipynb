{
 "cells": [
  {
   "cell_type": "markdown",
   "metadata": {},
   "source": [
    "File to pre-chunk docs and write them out so we can save time loading our app"
   ]
  },
  {
   "cell_type": "code",
   "execution_count": 3,
   "metadata": {},
   "outputs": [
    {
     "name": "stdout",
     "output_type": "stream",
     "text": [
      "loading https://www.whitehouse.gov/wp-content/uploads/2022/10/Blueprint-for-an-AI-Bill-of-Rights.pdf\n",
      "loading https://nvlpubs.nist.gov/nistpubs/ai/NIST.AI.600-1.pdf\n",
      "Loaded 119 docs\n"
     ]
    }
   ],
   "source": [
    "from langchain_community.document_loaders import PyMuPDFLoader\n",
    "\n",
    "PDF_DICT = {\n",
    "    \"doc1\": {\"file_path\": \"https://www.whitehouse.gov/wp-content/uploads/2022/10/Blueprint-for-an-AI-Bill-of-Rights.pdf\", \"skip_pages_begin\": 4, \"skip_pages_end\": 10},\n",
    "    \"doc2\": {\"file_path\": \"https://nvlpubs.nist.gov/nistpubs/ai/NIST.AI.600-1.pdf\", \"skip_pages_begin\": 4, \"skip_pages_end\": None},\n",
    "}\n",
    "\n",
    "docs = []\n",
    "for key, value in PDF_DICT.items():\n",
    "    skip_pages_begin = value.get(\"skip_pages_begin\")\n",
    "    skip_pages_end = value.get(\"skip_pages_end\")\n",
    "    \n",
    "    # Load the PDF using PyMuPDFLoader\n",
    "    print(f\"loading {value[\"file_path\"]}\")\n",
    "    doc = PyMuPDFLoader(value[\"file_path\"]).load()\n",
    "\n",
    "    if skip_pages_begin is not None: doc = doc[skip_pages_begin:]\n",
    "    if skip_pages_end is not None: doc = doc[:-skip_pages_end]\n",
    "    docs.extend(doc)    \n",
    "\n",
    "print(f\"Loaded {len(docs)} docs\")"
   ]
  },
  {
   "cell_type": "code",
   "execution_count": null,
   "metadata": {},
   "outputs": [],
   "source": [
    "from langchain.document import Document\n",
    "import json\n",
    "\n",
    "filename = \"chunked_docs.json\"\n",
    "\n",
    "def write_docs_to_file(docs, filename):\n",
    "    \"\"\"Writes a list of Langchain documents to a JSON file.\n",
    "\n",
    "    Args:\n",
    "        docs: A list of Langchain Document objects.\n",
    "        filename: The name of the file to write to.\n",
    "    \"\"\"\n",
    "\n",
    "    with open(filename, \"w\") as f:\n",
    "        json.dump([doc.dict() for doc in docs], f, indent=4)\n",
    "\n",
    "write_docs_to_file(docs, filename)"
   ]
  },
  {
   "cell_type": "code",
   "execution_count": null,
   "metadata": {},
   "outputs": [],
   "source": []
  }
 ],
 "metadata": {
  "kernelspec": {
   "display_name": "Python 3",
   "language": "python",
   "name": "python3"
  },
  "language_info": {
   "codemirror_mode": {
    "name": "ipython",
    "version": 3
   },
   "file_extension": ".py",
   "mimetype": "text/x-python",
   "name": "python",
   "nbconvert_exporter": "python",
   "pygments_lexer": "ipython3",
   "version": "3.12.5"
  }
 },
 "nbformat": 4,
 "nbformat_minor": 2
}
