{
 "cells": [
  {
   "cell_type": "markdown",
   "metadata": {},
   "source": [
    "File to pre-chunk docs and write them out so we can save time loading our app"
   ]
  },
  {
   "cell_type": "code",
   "execution_count": 3,
   "metadata": {},
   "outputs": [
    {
     "name": "stdout",
     "output_type": "stream",
     "text": [
      "loading https://www.whitehouse.gov/wp-content/uploads/2022/10/Blueprint-for-an-AI-Bill-of-Rights.pdf\n",
      "loading https://nvlpubs.nist.gov/nistpubs/ai/NIST.AI.600-1.pdf\n",
      "Loaded 119 docs\n"
     ]
    }
   ],
   "source": [
    "from langchain_community.document_loaders import PyMuPDFLoader\n",
    "\n",
    "PDF_DICT = {\n",
    "    \"doc1\": {\"file_path\": \"https://www.whitehouse.gov/wp-content/uploads/2022/10/Blueprint-for-an-AI-Bill-of-Rights.pdf\", \"skip_pages_begin\": 4, \"skip_pages_end\": 10},\n",
    "    \"doc2\": {\"file_path\": \"https://nvlpubs.nist.gov/nistpubs/ai/NIST.AI.600-1.pdf\", \"skip_pages_begin\": 4, \"skip_pages_end\": None},\n",
    "}\n",
    "\n",
    "docs = []\n",
    "for key, value in PDF_DICT.items():\n",
    "    skip_pages_begin = value.get(\"skip_pages_begin\")\n",
    "    skip_pages_end = value.get(\"skip_pages_end\")\n",
    "    \n",
    "    # Load the PDF using PyMuPDFLoader\n",
    "    print(f\"loading {value[\"file_path\"]}\")\n",
    "    doc = PyMuPDFLoader(value[\"file_path\"]).load()\n",
    "\n",
    "    if skip_pages_begin is not None: doc = doc[skip_pages_begin:]\n",
    "    if skip_pages_end is not None: doc = doc[:-skip_pages_end]\n",
    "    docs.extend(doc)    \n",
    "\n",
    "print(f\"Loaded {len(docs)} docs\")"
   ]
  },
  {
   "cell_type": "code",
   "execution_count": 5,
   "metadata": {},
   "outputs": [],
   "source": [
    "from langchain.schema import Document\n",
    "import json\n",
    "\n",
    "filename = \"chunked_docs.json\"\n",
    "\n",
    "def write_docs_to_file(docs, filename):\n",
    "    \"\"\"Writes a list of Langchain documents to a JSON file.\n",
    "\n",
    "    Args:\n",
    "        docs: A list of Langchain Document objects.\n",
    "        filename: The name of the file to write to.\n",
    "    \"\"\"\n",
    "\n",
    "    with open(filename, \"w\") as f:\n",
    "        json.dump([doc.dict() for doc in docs], f, indent=4)\n"
   ]
  },
  {
   "cell_type": "code",
   "execution_count": 6,
   "metadata": {},
   "outputs": [],
   "source": [
    "\n",
    "write_docs_to_file(docs, filename)"
   ]
  },
  {
   "cell_type": "code",
   "execution_count": 7,
   "metadata": {},
   "outputs": [],
   "source": [
    "def read_docs_from_file(filename):\n",
    "    \"\"\"Reads a list of Langchain documents from a JSON file.\"\"\"\n",
    "\n",
    "    with open(filename, \"r\") as f:\n",
    "        data = json.load(f)\n",
    "\n",
    "    return [Document(**doc) for doc in data]"
   ]
  },
  {
   "cell_type": "code",
   "execution_count": 8,
   "metadata": {},
   "outputs": [],
   "source": [
    "new_docs = read_docs_from_file(filename)"
   ]
  },
  {
   "cell_type": "code",
   "execution_count": 9,
   "metadata": {},
   "outputs": [
    {
     "name": "stdout",
     "output_type": "stream",
     "text": [
      "119\n",
      "page_content=' \n",
      " \n",
      " \n",
      " \n",
      " \n",
      "SECTION TITLE\n",
      "DATA PRIVACY\n",
      "You should be protected from abusive data practices via built-in protections and you \n",
      "should have agency over how data about you is used. You should be protected from violations of \n",
      "privacy through design choices that ensure such protections are included by default, including ensuring that \n",
      "data collection conforms to reasonable expectations and that only data strictly necessary for the specific \n",
      "context is collected. Designers, developers, and deployers of automated systems should seek your permission \n",
      "and respect your decisions regarding collection, use, access, transfer, and deletion of your data in appropriate \n",
      "ways and to the greatest extent possible; where not possible, alternative privacy by design safeguards should be \n",
      "used. Systems should not employ user experience and design decisions that obfuscate user choice or burden \n",
      "users with defaults that are privacy invasive. Consent should only be used to justify collection of data in cases \n",
      "where it can be appropriately and meaningfully given. Any consent requests should be brief, be understandable \n",
      "in plain language, and give you agency over data collection and the specific context of use; current hard-to­\n",
      "understand notice-and-choice practices for broad uses of data should be changed. Enhanced protections and \n",
      "restrictions for data and inferences related to sensitive domains, including health, work, education, criminal \n",
      "justice, and finance, and for data pertaining to youth should put you first. In sensitive domains, your data and \n",
      "related inferences should only be used for necessary functions, and you should be protected by ethical review \n",
      "and use prohibitions. You and your communities should be free from unchecked surveillance; surveillance \n",
      "technologies should be subject to heightened oversight that includes at least pre-deployment assessment of their \n",
      "potential harms and scope limits to protect privacy and civil liberties. Continuous surveillance and monitoring \n",
      "should not be used in education, work, housing, or in other contexts where the use of such surveillance \n",
      "technologies is likely to limit rights, opportunities, or access. Whenever possible, you should have access to \n",
      "reporting that confirms your data decisions have been respected and provides an assessment of the \n",
      "potential impact of surveillance technologies on your rights, opportunities, or access. \n",
      "NOTICE AND EXPLANATION\n",
      "You should know that an automated system is being used and understand how and why it \n",
      "contributes to outcomes that impact you. Designers, developers, and deployers of automated systems \n",
      "should provide generally accessible plain language documentation including clear descriptions of the overall \n",
      "system functioning and the role automation plays, notice that such systems are in use, the individual or organiza­\n",
      "tion responsible for the system, and explanations of outcomes that are clear, timely, and accessible. Such notice \n",
      "should be kept up-to-date and people impacted by the system should be notified of significant use case or key \n",
      "functionality changes. You should know how and why an outcome impacting you was determined by an \n",
      "automated system, including when the automated system is not the sole input determining the outcome. \n",
      "Automated systems should provide explanations that are technically valid, meaningful and useful to you and to \n",
      "any operators or others who need to understand the system, and calibrated to the level of risk based on the \n",
      "context. Reporting that includes summary information about these automated systems in plain language and \n",
      "assessments of the clarity and quality of the notice and explanations should be made public whenever possible. \n",
      "6\n",
      "' metadata={'source': 'https://www.whitehouse.gov/wp-content/uploads/2022/10/Blueprint-for-an-AI-Bill-of-Rights.pdf', 'file_path': 'https://www.whitehouse.gov/wp-content/uploads/2022/10/Blueprint-for-an-AI-Bill-of-Rights.pdf', 'page': 5, 'total_pages': 73, 'format': 'PDF 1.6', 'title': 'Blueprint for an AI Bill of Rights', 'author': '', 'subject': '', 'keywords': '', 'creator': 'Adobe Illustrator 26.3 (Macintosh)', 'producer': 'iLovePDF', 'creationDate': \"D:20220920133035-04'00'\", 'modDate': \"D:20221003104118-04'00'\", 'trapped': ''}\n"
     ]
    }
   ],
   "source": [
    "print(len(new_docs))\n",
    "print(new_docs[1])"
   ]
  }
 ],
 "metadata": {
  "kernelspec": {
   "display_name": "Python 3",
   "language": "python",
   "name": "python3"
  },
  "language_info": {
   "codemirror_mode": {
    "name": "ipython",
    "version": 3
   },
   "file_extension": ".py",
   "mimetype": "text/x-python",
   "name": "python",
   "nbconvert_exporter": "python",
   "pygments_lexer": "ipython3",
   "version": "3.12.5"
  }
 },
 "nbformat": 4,
 "nbformat_minor": 2
}
